{
  "nbformat": 4,
  "nbformat_minor": 0,
  "metadata": {
    "colab": {
      "provenance": [],
      "authorship_tag": "ABX9TyM0PcqAbwnqRf0zUHyOEWaa",
      "include_colab_link": true
    },
    "kernelspec": {
      "name": "python3",
      "display_name": "Python 3"
    },
    "language_info": {
      "name": "python"
    }
  },
  "cells": [
    {
      "cell_type": "markdown",
      "metadata": {
        "id": "view-in-github",
        "colab_type": "text"
      },
      "source": [
        "<a href=\"https://colab.research.google.com/github/ashwanirawat113/Placement-Training/blob/main/placement_.ipynb\" target=\"_parent\"><img src=\"https://colab.research.google.com/assets/colab-badge.svg\" alt=\"Open In Colab\"/></a>"
      ]
    },
    {
      "cell_type": "code",
      "execution_count": null,
      "metadata": {
        "colab": {
          "base_uri": "https://localhost:8080/"
        },
        "id": "JAdVy1hGzORq",
        "outputId": "28aec3ed-1ac1-43fe-c9da-7f5cdd921562"
      },
      "outputs": [
        {
          "output_type": "stream",
          "name": "stdout",
          "text": [
            "[2, 4, 6, 8]\n"
          ]
        }
      ],
      "source": [
        "a = [1, 2, 3, 4]\n",
        "l = [val * 2 for val in a]\n",
        "print(l)\n"
      ]
    },
    {
      "cell_type": "code",
      "source": [
        "a = [1, 2, 3, 4,5,6,7,8]\n",
        "evens = [val for val in a if val % 2 == 0]\n",
        "print(evens)\n"
      ],
      "metadata": {
        "colab": {
          "base_uri": "https://localhost:8080/"
        },
        "id": "cgTyKsK16dCY",
        "outputId": "472dd468-b368-40cc-c315-b61cdfe9016f"
      },
      "execution_count": null,
      "outputs": [
        {
          "output_type": "stream",
          "name": "stdout",
          "text": [
            "[2, 4, 6, 8]\n"
          ]
        }
      ]
    },
    {
      "cell_type": "code",
      "source": [
        "a = [1, 2, 3, 4,5,6,7,8]\n",
        "odds = [val for val in a if val % 2 == 1]\n",
        "print(odds)\n"
      ],
      "metadata": {
        "colab": {
          "base_uri": "https://localhost:8080/"
        },
        "id": "wgNuLDgf7cHi",
        "outputId": "e2751953-a23d-4ead-a5d1-6db8dc680b23"
      },
      "execution_count": null,
      "outputs": [
        {
          "output_type": "stream",
          "name": "stdout",
          "text": [
            "[1, 3, 5, 7]\n"
          ]
        }
      ]
    },
    {
      "cell_type": "code",
      "source": [
        "a=[i for i in range (15)]   # range function\n",
        "print (a)"
      ],
      "metadata": {
        "colab": {
          "base_uri": "https://localhost:8080/"
        },
        "id": "2q6ht1jG72Pm",
        "outputId": "fb9b39a5-c1c3-4bad-ec19-36d935c3ad81"
      },
      "execution_count": null,
      "outputs": [
        {
          "output_type": "stream",
          "name": "stdout",
          "text": [
            "[0, 1, 2, 3, 4, 5, 6, 7, 8, 9, 10, 11, 12, 13, 14]\n"
          ]
        }
      ]
    },
    {
      "cell_type": "code",
      "source": [
        "c=[(x,y) for x in range (3) for y in range (3)]  # tuple representation\n",
        "print (c)"
      ],
      "metadata": {
        "colab": {
          "base_uri": "https://localhost:8080/"
        },
        "id": "EUXugWmD8lPQ",
        "outputId": "3aeed284-4e64-4330-89d8-6436be3a0bf4"
      },
      "execution_count": null,
      "outputs": [
        {
          "output_type": "stream",
          "name": "stdout",
          "text": [
            "[(0, 0), (0, 1), (0, 2), (1, 0), (1, 1), (1, 2), (2, 0), (2, 1), (2, 2)]\n"
          ]
        }
      ]
    },
    {
      "cell_type": "code",
      "source": [
        "syntax : new_list=[[expr for item in inner_iteration] for item in outer_iteration]  #nested list comprehension\n",
        "a=[[r for r in range(3)] for c in range (3)]\n",
        "print (a)"
      ],
      "metadata": {
        "colab": {
          "base_uri": "https://localhost:8080/",
          "height": 176
        },
        "id": "7UbDzhtg-ELr",
        "outputId": "fb236931-1f75-4c8b-cf25-f2b36bce635b"
      },
      "execution_count": null,
      "outputs": [
        {
          "output_type": "error",
          "ename": "NameError",
          "evalue": "name 'outer_iteration' is not defined",
          "traceback": [
            "\u001b[0;31m---------------------------------------------------------------------------\u001b[0m",
            "\u001b[0;31mNameError\u001b[0m                                 Traceback (most recent call last)",
            "\u001b[0;32m/tmp/ipython-input-3932151310.py\u001b[0m in \u001b[0;36m<cell line: 0>\u001b[0;34m()\u001b[0m\n\u001b[0;32m----> 1\u001b[0;31m \u001b[0msyntax\u001b[0m \u001b[0;34m:\u001b[0m \u001b[0mnew_list\u001b[0m\u001b[0;34m=\u001b[0m\u001b[0;34m[\u001b[0m\u001b[0;34m[\u001b[0m\u001b[0mexpr\u001b[0m \u001b[0;32mfor\u001b[0m \u001b[0mitem\u001b[0m \u001b[0;32min\u001b[0m \u001b[0minner_iteration\u001b[0m\u001b[0;34m]\u001b[0m \u001b[0;32mfor\u001b[0m \u001b[0mitem\u001b[0m \u001b[0;32min\u001b[0m \u001b[0mouter_iteration\u001b[0m\u001b[0;34m]\u001b[0m  \u001b[0;31m#nested list comprehension\u001b[0m\u001b[0;34m\u001b[0m\u001b[0;34m\u001b[0m\u001b[0m\n\u001b[0m\u001b[1;32m      2\u001b[0m \u001b[0ma\u001b[0m\u001b[0;34m=\u001b[0m\u001b[0;34m[\u001b[0m\u001b[0;34m[\u001b[0m\u001b[0mr\u001b[0m \u001b[0;32mfor\u001b[0m \u001b[0mr\u001b[0m \u001b[0;32min\u001b[0m \u001b[0mrange\u001b[0m\u001b[0;34m(\u001b[0m\u001b[0;36m3\u001b[0m\u001b[0;34m)\u001b[0m\u001b[0;34m]\u001b[0m \u001b[0;32mfor\u001b[0m \u001b[0mc\u001b[0m \u001b[0;32min\u001b[0m \u001b[0mrange\u001b[0m \u001b[0;34m(\u001b[0m\u001b[0;36m3\u001b[0m\u001b[0;34m)\u001b[0m\u001b[0;34m]\u001b[0m\u001b[0;34m\u001b[0m\u001b[0;34m\u001b[0m\u001b[0m\n\u001b[1;32m      3\u001b[0m \u001b[0mprint\u001b[0m \u001b[0;34m(\u001b[0m\u001b[0ma\u001b[0m\u001b[0;34m)\u001b[0m\u001b[0;34m\u001b[0m\u001b[0;34m\u001b[0m\u001b[0m\n",
            "\u001b[0;31mNameError\u001b[0m: name 'outer_iteration' is not defined"
          ]
        }
      ]
    },
    {
      "cell_type": "code",
      "source": [
        "#flattening of lists\n",
        "#input: m = [[1, 2, 3], [4, 5], [6, 7, 8, 9]] ; output: [1,2,3,4,5,6,7,8,9]\n",
        "m = [[1, 2, 3], [4, 5], [6, 7, 8, 9]]\n",
        "l=[]\n",
        "for i in m:\n",
        "  for s in i:\n",
        "    l.append(s)\n",
        "print(l)"
      ],
      "metadata": {
        "colab": {
          "base_uri": "https://localhost:8080/"
        },
        "id": "C0LVMh1w_SaI",
        "outputId": "99503d3e-7bb4-4084-d096-4d090e6dbc79"
      },
      "execution_count": null,
      "outputs": [
        {
          "output_type": "stream",
          "name": "stdout",
          "text": [
            "[1, 2, 3, 4, 5, 6, 7, 8, 9]\n"
          ]
        }
      ]
    },
    {
      "cell_type": "code",
      "source": [
        "\n",
        "# list comprehension with slicing\n",
        "# Syntax: [expression for item in list[start:stop:step] if condition]\n",
        "\n",
        "list1 = [10, 65, 98, 24, 94, 83]\n",
        "print(list1[-3:-1])   # from index -3 up to (but not including) -1\n"
      ],
      "metadata": {
        "colab": {
          "base_uri": "https://localhost:8080/"
        },
        "id": "az-jprsRBfQC",
        "outputId": "4f95f192-c5c8-4fde-f05b-799aa5e2c212"
      },
      "execution_count": null,
      "outputs": [
        {
          "output_type": "stream",
          "name": "stdout",
          "text": [
            "[24, 94]\n"
          ]
        }
      ]
    },
    {
      "cell_type": "code",
      "source": [
        "l= [10, 65, 98, 24, 94, 83]\n",
        "print(l[2:4])"
      ],
      "metadata": {
        "colab": {
          "base_uri": "https://localhost:8080/"
        },
        "id": "K8BGosuDDJMV",
        "outputId": "9baf8cc6-735f-4f14-c354-79bec187acf2"
      },
      "execution_count": null,
      "outputs": [
        {
          "output_type": "stream",
          "name": "stdout",
          "text": [
            "[98, 24]\n"
          ]
        }
      ]
    },
    {
      "cell_type": "code",
      "source": [
        "names = [\"ashwani\",\"aarav\",\"rawat\"]\n",
        "ages = [25, 30, 28]\n",
        "combine=zip(names,ages)\n",
        "l=list(combine)\n",
        "print(l)\n",
        "#using zip() loop\n",
        "for name,age in zip(names,ages):\n",
        "  print(name,age)"
      ],
      "metadata": {
        "colab": {
          "base_uri": "https://localhost:8080/"
        },
        "id": "LNHz4U1-DKbu",
        "outputId": "6284a5da-92ad-4436-f350-ca5ae022700f"
      },
      "execution_count": null,
      "outputs": [
        {
          "output_type": "stream",
          "name": "stdout",
          "text": [
            "[('ashwani', 25), ('aarav', 30), ('rawat', 28)]\n",
            "ashwani 25\n",
            "aarav 30\n",
            "rawat 28\n"
          ]
        }
      ]
    },
    {
      "cell_type": "code",
      "source": [
        "k=['a','b','c','d','e']\n",
        "v=[1,2,3,4,5]\n",
        "Dict={k:v for(k,v) in zip(k,v)}\n",
        "print(Dict)\n",
        "print(type(Dict))"
      ],
      "metadata": {
        "colab": {
          "base_uri": "https://localhost:8080/"
        },
        "id": "COMdfGvzP5vq",
        "outputId": "bab548ce-169f-43b4-a5ac-813d3f491268"
      },
      "execution_count": null,
      "outputs": [
        {
          "output_type": "stream",
          "name": "stdout",
          "text": [
            "{'a': 1, 'b': 2, 'c': 3, 'd': 4, 'e': 5}\n",
            "<class 'dict'>\n"
          ]
        }
      ]
    },
    {
      "cell_type": "code",
      "source": [
        "Dict = {x:x**2 for x in range(10)}\n",
        "print(Dict)"
      ],
      "metadata": {
        "colab": {
          "base_uri": "https://localhost:8080/"
        },
        "id": "IDjHCr3TQ093",
        "outputId": "96f5592a-3645-4972-b935-6d8db119fbae"
      },
      "execution_count": null,
      "outputs": [
        {
          "output_type": "stream",
          "name": "stdout",
          "text": [
            "{0: 0, 1: 1, 2: 4, 3: 9, 4: 16, 5: 25, 6: 36, 7: 49, 8: 64, 9: 81}\n"
          ]
        }
      ]
    },
    {
      "cell_type": "code",
      "source": [
        "Dict  = {x:x**3 for x in range(10)}\n",
        "print(Dict)"
      ],
      "metadata": {
        "colab": {
          "base_uri": "https://localhost:8080/"
        },
        "id": "WVeCw4S0Q74q",
        "outputId": "fcbf4657-5c99-40af-ca51-8bb4f2d3252d"
      },
      "execution_count": null,
      "outputs": [
        {
          "output_type": "stream",
          "name": "stdout",
          "text": [
            "{0: 0, 1: 1, 2: 8, 3: 27, 4: 64, 5: 125, 6: 216, 7: 343, 8: 512, 9: 729}\n"
          ]
        }
      ]
    },
    {
      "cell_type": "code",
      "source": [
        "def right_triangle(n):\n",
        "  for i in range(1,n+1):\n",
        "    print(\"🍕🍔\"*i)\n",
        "right_triangle(11)"
      ],
      "metadata": {
        "colab": {
          "base_uri": "https://localhost:8080/"
        },
        "id": "dYRdAcP8RkVq",
        "outputId": "9b108d52-572f-4bbc-a79a-5d64ec846c8a"
      },
      "execution_count": null,
      "outputs": [
        {
          "output_type": "stream",
          "name": "stdout",
          "text": [
            "🍕🍔\n",
            "🍕🍔🍕🍔\n",
            "🍕🍔🍕🍔🍕🍔\n",
            "🍕🍔🍕🍔🍕🍔🍕🍔\n",
            "🍕🍔🍕🍔🍕🍔🍕🍔🍕🍔\n",
            "🍕🍔🍕🍔🍕🍔🍕🍔🍕🍔🍕🍔\n",
            "🍕🍔🍕🍔🍕🍔🍕🍔🍕🍔🍕🍔🍕🍔\n",
            "🍕🍔🍕🍔🍕🍔🍕🍔🍕🍔🍕🍔🍕🍔🍕🍔\n",
            "🍕🍔🍕🍔🍕🍔🍕🍔🍕🍔🍕🍔🍕🍔🍕🍔🍕🍔\n",
            "🍕🍔🍕🍔🍕🍔🍕🍔🍕🍔🍕🍔🍕🍔🍕🍔🍕🍔🍕🍔\n",
            "🍕🍔🍕🍔🍕🍔🍕🍔🍕🍔🍕🍔🍕🍔🍕🍔🍕🍔🍕🍔🍕🍔\n"
          ]
        }
      ]
    },
    {
      "cell_type": "code",
      "source": [
        "def inverted_right_triangle(n):\n",
        "  for i in range(n,0,-1):\n",
        "    print(\"🍕🍔\"*i)\n",
        "inverted_right_triangle(11)"
      ],
      "metadata": {
        "colab": {
          "base_uri": "https://localhost:8080/"
        },
        "id": "8MfvN4jPVDXO",
        "outputId": "34f22827-9ec6-45a9-d53e-94c2641d2c52"
      },
      "execution_count": null,
      "outputs": [
        {
          "output_type": "stream",
          "name": "stdout",
          "text": [
            "🍕🍔🍕🍔🍕🍔🍕🍔🍕🍔🍕🍔🍕🍔🍕🍔🍕🍔🍕🍔🍕🍔\n",
            "🍕🍔🍕🍔🍕🍔🍕🍔🍕🍔🍕🍔🍕🍔🍕🍔🍕🍔🍕🍔\n",
            "🍕🍔🍕🍔🍕🍔🍕🍔🍕🍔🍕🍔🍕🍔🍕🍔🍕🍔\n",
            "🍕🍔🍕🍔🍕🍔🍕🍔🍕🍔🍕🍔🍕🍔🍕🍔\n",
            "🍕🍔🍕🍔🍕🍔🍕🍔🍕🍔🍕🍔🍕🍔\n",
            "🍕🍔🍕🍔🍕🍔🍕🍔🍕🍔🍕🍔\n",
            "🍕🍔🍕🍔🍕🍔🍕🍔🍕🍔\n",
            "🍕🍔🍕🍔🍕🍔🍕🍔\n",
            "🍕🍔🍕🍔🍕🍔\n",
            "🍕🍔🍕🍔\n",
            "🍕🍔\n"
          ]
        }
      ]
    },
    {
      "cell_type": "code",
      "source": [
        "#Display the Series 1, 2, 3, 4, 5, 6, … N\n",
        "N = int(input(\"Enter N: \"))\n",
        "for i in range(1, N+1):\n",
        "    print(i, end=\", \")\n"
      ],
      "metadata": {
        "colab": {
          "base_uri": "https://localhost:8080/"
        },
        "id": "bISqg0RUlac1",
        "outputId": "51ee2b18-148f-4b3e-d18d-f4ff599c247a"
      },
      "execution_count": null,
      "outputs": [
        {
          "output_type": "stream",
          "name": "stdout",
          "text": [
            "Enter N: 22\n",
            "1, 2, 3, 4, 5, 6, 7, 8, 9, 10, 11, 12, 13, 14, 15, 16, 17, 18, 19, 20, 21, 22, "
          ]
        }
      ]
    },
    {
      "cell_type": "code",
      "source": [
        "#Display the Series 1, 3, 5, 7, 9, … N (Odd numbers)\n",
        "N = int(input(\"Enter N: \"))\n",
        "for i in range(1, N+1, 2):\n",
        "    print(i, end=\", \")\n"
      ],
      "metadata": {
        "colab": {
          "base_uri": "https://localhost:8080/"
        },
        "id": "Be18SGmWl4Gb",
        "outputId": "7ddfecb0-ab5a-4f12-fe84-dcf70e43c552"
      },
      "execution_count": null,
      "outputs": [
        {
          "output_type": "stream",
          "name": "stdout",
          "text": [
            "Enter N: 89\n",
            "1, 3, 5, 7, 9, 11, 13, 15, 17, 19, 21, 23, 25, 27, 29, 31, 33, 35, 37, 39, 41, 43, 45, 47, 49, 51, 53, 55, 57, 59, 61, 63, 65, 67, 69, 71, 73, 75, 77, 79, 81, 83, 85, 87, 89, "
          ]
        }
      ]
    },
    {
      "cell_type": "code",
      "source": [
        "#Display the Series 4, 16, 36, 64, … N\n",
        "N = int(input(\"Enter N (Last number): \"))\n",
        "i = 2\n",
        "while i*i*1 <= N:\n",
        "    print((i*i)*i, end=\", \")\n",
        "    i += 2\n"
      ],
      "metadata": {
        "colab": {
          "base_uri": "https://localhost:8080/"
        },
        "id": "qnf1LXWlmCht",
        "outputId": "05ee8c06-633f-4375-c19f-bc1af957c640"
      },
      "execution_count": null,
      "outputs": [
        {
          "output_type": "stream",
          "name": "stdout",
          "text": [
            "Enter N (Last number): 65\n",
            "8, 64, 216, 512, "
          ]
        }
      ]
    },
    {
      "cell_type": "code",
      "source": [
        "#Display the Series 1, 5, 9, 13, 21, 25, 29, 37, … N\n",
        "N = int(input(\"Enter N: \"))\n",
        "a = 1\n",
        "diff = 4\n",
        "while a <= N:\n",
        "    print(a, end=\", \")\n",
        "    a += diff\n",
        "    # Alternate difference between 4 and 8\n",
        "    diff = 8 if diff == 4 else 4\n"
      ],
      "metadata": {
        "colab": {
          "base_uri": "https://localhost:8080/"
        },
        "id": "lFQQWu4FmLn5",
        "outputId": "e251857f-c169-4beb-bbc6-c3df1cd55f97"
      },
      "execution_count": null,
      "outputs": [
        {
          "output_type": "stream",
          "name": "stdout",
          "text": [
            "Enter N: 32\n",
            "1, 5, 13, 17, 25, 29, "
          ]
        }
      ]
    },
    {
      "cell_type": "code",
      "source": [
        "#Display the Series 1, 1, 2, 3, 5, 8, 13, 21, … N (Fibonacci series)\n",
        "N = int(input(\"Enter N: \"))\n",
        "a, b = 1, 1\n",
        "while a <= N:\n",
        "    print(a, end=\", \")\n",
        "    a, b = b, a + b\n"
      ],
      "metadata": {
        "colab": {
          "base_uri": "https://localhost:8080/"
        },
        "id": "07I4iyGQmVj_",
        "outputId": "51be0f71-1216-4acb-d602-cefbb5cb8995"
      },
      "execution_count": null,
      "outputs": [
        {
          "output_type": "stream",
          "name": "stdout",
          "text": [
            "Enter N: 10\n",
            "1, 1, 2, 3, 5, 8, "
          ]
        }
      ]
    },
    {
      "cell_type": "code",
      "source": [
        "#display the series 1,4,7,12,23,...N\n",
        "N = int(input(\"Enter N: \"))\n",
        "a, b = 1, 4\n",
        "while a <= N:\n",
        "    print(a, end=\", \")\n",
        "    a, b = b, a + b"
      ],
      "metadata": {
        "colab": {
          "base_uri": "https://localhost:8080/"
        },
        "id": "8n1s9EUenMmd",
        "outputId": "b68ebad1-79d2-4793-942d-e73c757043c5"
      },
      "execution_count": null,
      "outputs": [
        {
          "output_type": "stream",
          "name": "stdout",
          "text": [
            "Enter N: 55\n",
            "1, 4, 5, 9, 14, 23, 37, "
          ]
        }
      ]
    },
    {
      "cell_type": "code",
      "source": [
        "# Print number pattern (N rows)\n",
        "N = int(input(\"Enter N: \"))\n",
        "for i in range(1, N+1):\n",
        "    for j in range(1, i+1):\n",
        "        print(j, end=\" \")\n",
        "    print()"
      ],
      "metadata": {
        "colab": {
          "base_uri": "https://localhost:8080/"
        },
        "id": "FqLF56jKodq2",
        "outputId": "e51c1ad5-2926-4952-f814-0cc696234e7f"
      },
      "execution_count": null,
      "outputs": [
        {
          "output_type": "stream",
          "name": "stdout",
          "text": [
            "Enter N: 30\n",
            "1 \n",
            "1 2 \n",
            "1 2 3 \n",
            "1 2 3 4 \n",
            "1 2 3 4 5 \n",
            "1 2 3 4 5 6 \n",
            "1 2 3 4 5 6 7 \n",
            "1 2 3 4 5 6 7 8 \n",
            "1 2 3 4 5 6 7 8 9 \n",
            "1 2 3 4 5 6 7 8 9 10 \n",
            "1 2 3 4 5 6 7 8 9 10 11 \n",
            "1 2 3 4 5 6 7 8 9 10 11 12 \n",
            "1 2 3 4 5 6 7 8 9 10 11 12 13 \n",
            "1 2 3 4 5 6 7 8 9 10 11 12 13 14 \n",
            "1 2 3 4 5 6 7 8 9 10 11 12 13 14 15 \n",
            "1 2 3 4 5 6 7 8 9 10 11 12 13 14 15 16 \n",
            "1 2 3 4 5 6 7 8 9 10 11 12 13 14 15 16 17 \n",
            "1 2 3 4 5 6 7 8 9 10 11 12 13 14 15 16 17 18 \n",
            "1 2 3 4 5 6 7 8 9 10 11 12 13 14 15 16 17 18 19 \n",
            "1 2 3 4 5 6 7 8 9 10 11 12 13 14 15 16 17 18 19 20 \n",
            "1 2 3 4 5 6 7 8 9 10 11 12 13 14 15 16 17 18 19 20 21 \n",
            "1 2 3 4 5 6 7 8 9 10 11 12 13 14 15 16 17 18 19 20 21 22 \n",
            "1 2 3 4 5 6 7 8 9 10 11 12 13 14 15 16 17 18 19 20 21 22 23 \n",
            "1 2 3 4 5 6 7 8 9 10 11 12 13 14 15 16 17 18 19 20 21 22 23 24 \n",
            "1 2 3 4 5 6 7 8 9 10 11 12 13 14 15 16 17 18 19 20 21 22 23 24 25 \n",
            "1 2 3 4 5 6 7 8 9 10 11 12 13 14 15 16 17 18 19 20 21 22 23 24 25 26 \n",
            "1 2 3 4 5 6 7 8 9 10 11 12 13 14 15 16 17 18 19 20 21 22 23 24 25 26 27 \n",
            "1 2 3 4 5 6 7 8 9 10 11 12 13 14 15 16 17 18 19 20 21 22 23 24 25 26 27 28 \n",
            "1 2 3 4 5 6 7 8 9 10 11 12 13 14 15 16 17 18 19 20 21 22 23 24 25 26 27 28 29 \n",
            "1 2 3 4 5 6 7 8 9 10 11 12 13 14 15 16 17 18 19 20 21 22 23 24 25 26 27 28 29 30 \n"
          ]
        }
      ]
    },
    {
      "cell_type": "code",
      "source": [
        "# printing number pattern (N rows)\n",
        "\n",
        "N = int(input(\"Enter N: \"))\n",
        "for i in range(1, N+1):\n",
        "    for j in range(1, N+2):\n",
        "        print(j, end=\"\")\n",
        "print()\n"
      ],
      "metadata": {
        "colab": {
          "base_uri": "https://localhost:8080/"
        },
        "id": "o1B5sLt7qKSd",
        "outputId": "638fa424-fef8-473a-d878-97a0b39fd2e7"
      },
      "execution_count": null,
      "outputs": [
        {
          "output_type": "stream",
          "name": "stdout",
          "text": [
            "Enter N: 10\n",
            "1234567891011123456789101112345678910111234567891011123456789101112345678910111234567891011123456789101112345678910111234567891011\n"
          ]
        }
      ]
    },
    {
      "cell_type": "code",
      "source": [
        "def sum_first_n(n):\n",
        "  total = 0\n",
        "  for i in range (1, n+1):\n",
        "      total += i\n",
        "  return total\n",
        "print(sum_first_n(10))"
      ],
      "metadata": {
        "colab": {
          "base_uri": "https://localhost:8080/"
        },
        "id": "atK0L8LGteY_",
        "outputId": "a484193c-a021-456b-821d-2bcf40e68a02"
      },
      "execution_count": null,
      "outputs": [
        {
          "output_type": "stream",
          "name": "stdout",
          "text": [
            "55\n"
          ]
        }
      ]
    },
    {
      "cell_type": "code",
      "source": [
        "def gp_sum(a, r, n):\n",
        "  if r == 1:\n",
        "    return a*n\n",
        "  return a * (1 - r**n) / (1 - r)\n",
        "print(gp_sum(2, 2, 5))"
      ],
      "metadata": {
        "colab": {
          "base_uri": "https://localhost:8080/"
        },
        "id": "Ozp99HTovrcV",
        "outputId": "0daf2599-91b5-4444-f064-27ebcbc408d3"
      },
      "execution_count": null,
      "outputs": [
        {
          "output_type": "stream",
          "name": "stdout",
          "text": [
            "62.0\n"
          ]
        }
      ]
    },
    {
      "cell_type": "code",
      "source": [
        "#Creating a parent class\n",
        "class person():\n",
        "    def __init__(self, last_name, eye_color):\n",
        "        print(\"Parent Constructor Called\")\n",
        "        self.last_name = last_name\n",
        "        self.eye_color = eye_color"
      ],
      "metadata": {
        "id": "77rfuSng0nZZ"
      },
      "execution_count": null,
      "outputs": []
    },
    {
      "cell_type": "code",
      "source": [
        "#Creating a child lass\n",
        "# Please run the cell defining the 'person' class first\n",
        "class Emp(person):\n",
        "  def Print(self):\n",
        "    print(\"child cass\")\n",
        "emp_details = Emp(\"Aarav\", \"brown\")\n",
        "emp_details.Print()"
      ],
      "metadata": {
        "colab": {
          "base_uri": "https://localhost:8080/",
          "height": 211
        },
        "id": "XlFpEhwM3EWz",
        "outputId": "b22019a6-feed-48b1-a612-2e62a30ab08c"
      },
      "execution_count": null,
      "outputs": [
        {
          "output_type": "error",
          "ename": "NameError",
          "evalue": "name 'person' is not defined",
          "traceback": [
            "\u001b[0;31m---------------------------------------------------------------------------\u001b[0m",
            "\u001b[0;31mNameError\u001b[0m                                 Traceback (most recent call last)",
            "\u001b[0;32m/tmp/ipython-input-1207897890.py\u001b[0m in \u001b[0;36m<cell line: 0>\u001b[0;34m()\u001b[0m\n\u001b[1;32m      1\u001b[0m \u001b[0;31m#Creating a child lass\u001b[0m\u001b[0;34m\u001b[0m\u001b[0;34m\u001b[0m\u001b[0m\n\u001b[1;32m      2\u001b[0m \u001b[0;31m# Please run the cell defining the 'person' class first\u001b[0m\u001b[0;34m\u001b[0m\u001b[0;34m\u001b[0m\u001b[0m\n\u001b[0;32m----> 3\u001b[0;31m \u001b[0;32mclass\u001b[0m \u001b[0mEmp\u001b[0m\u001b[0;34m(\u001b[0m\u001b[0mperson\u001b[0m\u001b[0;34m)\u001b[0m\u001b[0;34m:\u001b[0m\u001b[0;34m\u001b[0m\u001b[0;34m\u001b[0m\u001b[0m\n\u001b[0m\u001b[1;32m      4\u001b[0m   \u001b[0;32mdef\u001b[0m \u001b[0mPrint\u001b[0m\u001b[0;34m(\u001b[0m\u001b[0mself\u001b[0m\u001b[0;34m)\u001b[0m\u001b[0;34m:\u001b[0m\u001b[0;34m\u001b[0m\u001b[0;34m\u001b[0m\u001b[0m\n\u001b[1;32m      5\u001b[0m     \u001b[0mprint\u001b[0m\u001b[0;34m(\u001b[0m\u001b[0;34m\"child cass\"\u001b[0m\u001b[0;34m)\u001b[0m\u001b[0;34m\u001b[0m\u001b[0;34m\u001b[0m\u001b[0m\n",
            "\u001b[0;31mNameError\u001b[0m: name 'person' is not defined"
          ]
        }
      ]
    },
    {
      "cell_type": "code",
      "source": [
        "#1. Single Inheritance\n",
        "class person:\n",
        "    def __init__(self,name):\n",
        "      self.name = name\n",
        "class Employee(person):\n",
        "  def __init__(self, name, salary):\n",
        "    super().__init__(name)\n",
        "    self.salary = salary\n"
      ],
      "metadata": {
        "id": "zlQ-q-8q7HEh"
      },
      "execution_count": null,
      "outputs": []
    },
    {
      "cell_type": "code",
      "source": [
        "#syntax : var/val.inseert(index position value)\n",
        "#add value to the specific index function\n",
        "#takes two arguments is index postion & value.\n",
        "#example:\n",
        "l=[4.9,'a']\n",
        "l.insert(1,[2.8])\n",
        "l"
      ],
      "metadata": {
        "colab": {
          "base_uri": "https://localhost:8080/"
        },
        "id": "xs4BcCSN-CUj",
        "outputId": "9c9edaa6-8877-4d1b-8707-e5e9f95a9a81"
      },
      "execution_count": null,
      "outputs": [
        {
          "output_type": "execute_result",
          "data": {
            "text/plain": [
              "[4.9, [2.8], 'a']"
            ]
          },
          "metadata": {},
          "execution_count": 3
        }
      ]
    },
    {
      "cell_type": "code",
      "source": [
        "#EXTEND**\n",
        "#syntax : var/val.extend(iterable object)\n",
        "#adds only the iterable object to the list.\n",
        "#values present inside the collection will get stored separately in the\n",
        "#example:\n",
        "\n",
        "l=['ab',78]\n",
        "l.extend('xyz')\n",
        "l"
      ],
      "metadata": {
        "colab": {
          "base_uri": "https://localhost:8080/"
        },
        "id": "Qssz-TQB_KuT",
        "outputId": "cc2965d0-6879-4cb3-d60a-f7959b42e981"
      },
      "execution_count": null,
      "outputs": [
        {
          "output_type": "execute_result",
          "data": {
            "text/plain": [
              "['ab', 78, 'x', 'y', 'z']"
            ]
          },
          "metadata": {},
          "execution_count": 22
        }
      ]
    },
    {
      "cell_type": "code",
      "source": [
        "#PRACTICE\n",
        "arr = [2, 4, 6]\n",
        "arr.append(8)\n",
        "print(arr)\n",
        "arr.insert(2,3)\n",
        "print(arr)\n",
        "arr.extend([8,10])\n",
        "print(arr)\n"
      ],
      "metadata": {
        "colab": {
          "base_uri": "https://localhost:8080/"
        },
        "id": "YgPGFIBCA5KJ",
        "outputId": "be2a5526-b6e0-4e0d-f125-a632fe70fab0"
      },
      "execution_count": null,
      "outputs": [
        {
          "output_type": "stream",
          "name": "stdout",
          "text": [
            "[2, 4, 6, 8]\n",
            "[2, 4, 3, 6, 8]\n",
            "[2, 4, 3, 6, 8, 8, 10]\n"
          ]
        }
      ]
    },
    {
      "cell_type": "code",
      "source": [
        "#(i) POP**\n",
        "d={'a':'and',6:[7.5],9.5:True}\n",
        "d.pop(6)\n",
        "d"
      ],
      "metadata": {
        "colab": {
          "base_uri": "https://localhost:8080/"
        },
        "id": "qw8xQ2PQBbwF",
        "outputId": "8d8a004e-08ce-440d-c38b-3d81ef0a2a18"
      },
      "execution_count": null,
      "outputs": [
        {
          "output_type": "execute_result",
          "data": {
            "text/plain": [
              "{'a': 'and', 9.5: True}"
            ]
          },
          "metadata": {},
          "execution_count": 16
        }
      ]
    },
    {
      "cell_type": "code",
      "source": [
        "# lambda function for a > b\n",
        "x = lambda a, b: a > b\n",
        "\n",
        "print(x(10, 5))\n",
        "\n"
      ],
      "metadata": {
        "colab": {
          "base_uri": "https://localhost:8080/"
        },
        "id": "myp7QInGDkLG",
        "outputId": "4ed77cd8-bf8d-46bc-ef33-2ef9de4805d1"
      },
      "execution_count": null,
      "outputs": [
        {
          "output_type": "stream",
          "name": "stdout",
          "text": [
            "True\n"
          ]
        }
      ]
    },
    {
      "cell_type": "code",
      "source": [
        "#syntax\n",
        "Zip Func: zip(iterable 1, iterable 2)\n",
        "\n",
        "Filter Func: filter(function, iterable)\n",
        "\n",
        "Map Func: map(function, iterable)\n",
        "\n",
        "Reduce Func: reduce(function, iterable, [initializer])\n",
        "\n",
        "List Comprehension: [expression for item in iterable if condition == True (optional)]\n",
        "\n",
        "Dictionary Comprehension: {key: value for item in iterable if condition == True (optional)}\n",
        "\n"
      ],
      "metadata": {
        "id": "e5G-1AN-tl2t"
      },
      "execution_count": null,
      "outputs": []
    },
    {
      "cell_type": "code",
      "source": [
        "s={12,'abc',6+9j,1.8}\n",
        "s.remove(6+9j)\n",
        "s"
      ],
      "metadata": {
        "colab": {
          "base_uri": "https://localhost:8080/"
        },
        "id": "B9JQ-H85uf5-",
        "outputId": "b19f7714-bc2b-4a1f-a984-61c6fc2d6d0b"
      },
      "execution_count": null,
      "outputs": [
        {
          "output_type": "execute_result",
          "data": {
            "text/plain": [
              "{1.8, 12, 'abc'}"
            ]
          },
          "metadata": {},
          "execution_count": 13
        }
      ]
    },
    {
      "cell_type": "code",
      "source": [
        "s={12,'abc',6+9j,1.8}\n",
        "s.discard('abc')\n",
        "s\n",
        "s.discard(1.8)\n",
        "s"
      ],
      "metadata": {
        "colab": {
          "base_uri": "https://localhost:8080/"
        },
        "id": "G-L7_n3XvH3C",
        "outputId": "841d9adc-0e8e-43cf-a584-3ea2fc15ed25"
      },
      "execution_count": null,
      "outputs": [
        {
          "output_type": "execute_result",
          "data": {
            "text/plain": [
              "{(6+9j), 12}"
            ]
          },
          "metadata": {},
          "execution_count": 15
        }
      ]
    },
    {
      "cell_type": "code",
      "source": [
        "l=[{9},4.5,[2],'a',78]\n",
        "l.clear()"
      ],
      "metadata": {
        "id": "ZV8pJTASvuDN"
      },
      "execution_count": null,
      "outputs": []
    },
    {
      "cell_type": "code",
      "source": [
        "d={'a':'and',6:[7],9.5:True}\n",
        "d.popitem()"
      ],
      "metadata": {
        "colab": {
          "base_uri": "https://localhost:8080/"
        },
        "id": "-S-VFpQ7w1uu",
        "outputId": "5edd9fc0-bd56-43a2-b691-cac2a0545699"
      },
      "execution_count": null,
      "outputs": [
        {
          "output_type": "execute_result",
          "data": {
            "text/plain": [
              "(9.5, True)"
            ]
          },
          "metadata": {},
          "execution_count": 34
        }
      ]
    },
    {
      "cell_type": "code",
      "source": [
        "my_list = [1, 'hello', 3.14, True, [1, 2], {'a': 1}]\n",
        "del my_list"
      ],
      "metadata": {
        "id": "IjKA_Sppx0tG"
      },
      "execution_count": null,
      "outputs": []
    },
    {
      "cell_type": "code",
      "source": [
        "#SLICING\n",
        "#from collection data type\n",
        "#syntax : var[SI+-1]\n",
        "#default updation : +1\n",
        "#default direction : forward\n",
        "#forward direction : EI + 1\n",
        "#backward direction : EI - 1\n",
        "#no index position means no need to pass SI & EI\n"
      ],
      "metadata": {
        "id": "6w6DvhTOy3tG"
      },
      "execution_count": null,
      "outputs": []
    },
    {
      "cell_type": "code",
      "source": [
        "arr = [1, 2, 3, 4, 5]\n",
        "print(arr[1:4])\n",
        "print(arr[:3])\n",
        "print(arr[::2])\n",
        "print(arr[::-1])"
      ],
      "metadata": {
        "colab": {
          "base_uri": "https://localhost:8080/"
        },
        "id": "IW2DFy1m1tVX",
        "outputId": "8ca7714c-a049-44af-8651-2e34619f30b5"
      },
      "execution_count": null,
      "outputs": [
        {
          "output_type": "stream",
          "name": "stdout",
          "text": [
            "[2, 3, 4]\n",
            "[1, 2, 3]\n",
            "[1, 3, 5]\n",
            "[5, 4, 3, 2, 1]\n"
          ]
        }
      ]
    },
    {
      "cell_type": "markdown",
      "source": [
        "CoMpRehenSion"
      ],
      "metadata": {
        "id": "Qi4RmQsZ38f1"
      }
    },
    {
      "cell_type": "code",
      "source": [
        "#ANAGRAMS\n",
        "def anagrams(s1, s2):\n",
        "    return sorted(s1) == sorted(s2)\n",
        "st1 = \"ram \"\n",
        "st2 = \"ear\"\n",
        "print(anagrams(st1, st2))"
      ],
      "metadata": {
        "colab": {
          "base_uri": "https://localhost:8080/"
        },
        "id": "FAUnNlK54Ilm",
        "outputId": "1d4176c4-af7c-43b2-fc6d-d171ffc694af"
      },
      "execution_count": null,
      "outputs": [
        {
          "output_type": "stream",
          "name": "stdout",
          "text": [
            "False\n"
          ]
        }
      ]
    },
    {
      "cell_type": "code",
      "source": [
        "#ROTATE ARRAY\n",
        "def rotate_array(nums, k):\n",
        "    n = len(nums)\n",
        "    k = k % n\n",
        "    return nums[-k:] + nums[:-k]\n",
        "\n",
        "arr = [1, 2, 3, 4, 5]\n",
        "k = 2\n",
        "rotated = rotate_array(arr, k)\n",
        "print(rotated)"
      ],
      "metadata": {
        "colab": {
          "base_uri": "https://localhost:8080/"
        },
        "id": "7rgPTAmx7Se-",
        "outputId": "7dce9d0f-1481-4938-8b0d-6af8ccedee88"
      },
      "execution_count": null,
      "outputs": [
        {
          "output_type": "stream",
          "name": "stdout",
          "text": [
            "[4, 5, 1, 2, 3]\n"
          ]
        }
      ]
    },
    {
      "cell_type": "markdown",
      "source": [
        "                         ** ROTATE ARRAY**\n",
        "here,n=5&k=2\n",
        "k=2%5=2\n",
        "nums[-k:]=last k items(\"tail) →nums[-2:]"
      ],
      "metadata": {
        "id": "C19t2LB08RZg"
      }
    },
    {
      "cell_type": "code",
      "source": [
        "from __future__ import nested_scopes\n",
        "from collections import namedtuple\n",
        "#Rotate array\n",
        "def rotate_array(nums,k):\n",
        "  n=len(nums)\n",
        "  k=k % n\n",
        "  return nums[-k:]+nums[:-k]\n",
        "arr=[1,2,3,4,5]\n",
        "k=2\n",
        "rotated=rotate_array(arr, k)\n",
        "print(rotated)"
      ],
      "metadata": {
        "colab": {
          "base_uri": "https://localhost:8080/"
        },
        "id": "b1YHYIk79IEj",
        "outputId": "8cd6bae0-1970-4443-c8d7-b43b8380fd7e"
      },
      "execution_count": null,
      "outputs": [
        {
          "output_type": "stream",
          "name": "stdout",
          "text": [
            "[4, 5, 1, 2, 3]\n"
          ]
        }
      ]
    },
    {
      "cell_type": "code",
      "source": [
        "#valid palindrome\n",
        "def valid_palendrome(s):\n",
        "  filtered = ''.join(char.lower() for char in s if char.isalnum())\n",
        "  return filtered == filtered[::-1]\n",
        "s=\"A man, a plan, a canal: Panama\"\n",
        "print(valid_palendrome(s))"
      ],
      "metadata": {
        "colab": {
          "base_uri": "https://localhost:8080/"
        },
        "id": "ycEzTiq4_lIt",
        "outputId": "dedbab93-0e07-41b6-fd18-a4d73ea3f3d4"
      },
      "execution_count": null,
      "outputs": [
        {
          "output_type": "stream",
          "name": "stdout",
          "text": [
            "True\n"
          ]
        }
      ]
    },
    {
      "cell_type": "code",
      "source": [
        "#valid palindrome\n",
        "def valid_palendrome(s):\n",
        "  filtered = ''.join(char.lower() for char in s if char.isalnum())\n",
        "  return filtered == filtered[::-1]\n",
        "s=\"no lemon, no melon\"\n",
        "print(valid_palendrome(s))"
      ],
      "metadata": {
        "colab": {
          "base_uri": "https://localhost:8080/"
        },
        "id": "8nlagBYzIcCk",
        "outputId": "5aa1d098-cb3c-4f6b-f02a-6a66fb84a973"
      },
      "execution_count": null,
      "outputs": [
        {
          "output_type": "stream",
          "name": "stdout",
          "text": [
            "True\n"
          ]
        }
      ]
    },
    {
      "cell_type": "code",
      "source": [
        "#valid palindrome\n",
        "def valid_palendrome(s):\n",
        "  filtered = ''.join(char.lower() for char in s if char.isalnum())\n",
        "  return filtered == filtered[::-1]\n",
        "s=\"race a car\"\n",
        "print(valid_palendrome(s))"
      ],
      "metadata": {
        "colab": {
          "base_uri": "https://localhost:8080/"
        },
        "id": "TS-HZ950IkkH",
        "outputId": "e62631b0-6484-4497-a4db-2cb75142b2a9"
      },
      "execution_count": null,
      "outputs": [
        {
          "output_type": "stream",
          "name": "stdout",
          "text": [
            "False\n"
          ]
        }
      ]
    },
    {
      "cell_type": "code",
      "source": [
        "#reduce function\n",
        "#syntax : reduce(function, iterable[, initializer])\n",
        "from functools import reduce\n",
        "nums=[1, 2, 3, 4, 5]\n",
        "total = reduce(lambda x, y: x + y, nums)\n",
        "print(total)"
      ],
      "metadata": {
        "colab": {
          "base_uri": "https://localhost:8080/"
        },
        "id": "1GBZjWx2JTZ7",
        "outputId": "725732b5-0c7c-4fee-d7ff-43aa4ac87dae"
      },
      "execution_count": null,
      "outputs": [
        {
          "output_type": "stream",
          "name": "stdout",
          "text": [
            "15\n"
          ]
        }
      ]
    },
    {
      "cell_type": "code",
      "source": [
        "# ARRAY AND STRING\n",
        "arr = [10, 20, 30, 40, 50]\n",
        "#(I) using for loop\n",
        "for x in arr:\n",
        "  print(x, end='')\n",
        "  #"
      ],
      "metadata": {
        "id": "_ms8AOxuKZzm"
      },
      "execution_count": null,
      "outputs": []
    },
    {
      "cell_type": "markdown",
      "source": [
        "This game is played in a group, where players take turns to say the next number in a sequence, counting one at a time.\n",
        "\n",
        "* If the number is divisible by 3, the player must say “Fizz” instead of the number itself.\n",
        "* If the number is divisible by 5, the player must say “Buzz”.\n",
        "* If the number is divisible by 3 and 5, the player must say “FizzBuzz”.\n",
        "\n",
        "Given a number n, write a program that outputs the string representation of numbers from 1 to n. We need to return a string array as an output (1-indexed) where:\n",
        "\n",
        "* output\\[i] = \"FizzBuzz\" if i is divisible by 3 and 5.\n",
        "* output\\[i] = \"Fizz\" if i is divisible by 3.\n",
        "* output\\[i] = \"Buzz\" if i is divisible by 5.\n",
        "* output\\[i] = \"i\" if none of the above conditions are true.\n"
      ],
      "metadata": {
        "id": "yPYe8QwoMxmU"
      }
    },
    {
      "cell_type": "code",
      "source": [
        "n = int(input(\"enter a number\"))\n",
        "\n",
        "if(n%3==0 and n%5==0):\n",
        "    print(\"FizzBuzz\")\n",
        "elif(n%3==0):\n",
        "    print(\"Fizz\")\n",
        "elif(n%5==0):\n",
        "    print(\"Buzz\")\n",
        "else:\n",
        "    print(n)"
      ],
      "metadata": {
        "colab": {
          "base_uri": "https://localhost:8080/"
        },
        "id": "mBrax9cqOp5z",
        "outputId": "c8389d37-ad2b-434a-f047-68ad48ba8de4"
      },
      "execution_count": null,
      "outputs": [
        {
          "output_type": "stream",
          "name": "stdout",
          "text": [
            "enter a number25\n",
            "Buzz\n"
          ]
        }
      ]
    },
    {
      "cell_type": "code",
      "source": [
        "# Function to reverse the first column of a matrix\n",
        "def reverse_first_column(matrix):\n",
        "    n = len(matrix)\n",
        "    first_column = [matrix[i][0] for i in range(n)]\n",
        "    first_column.reverse()\n",
        "    for i in range(n):\n",
        "        matrix[i][0] = first_column[i]\n",
        "    return matrix\n",
        "\n",
        "mat = [\n",
        "    [1, 2, 3],\n",
        "    [4, 5, 6],\n",
        "    [7, 8, 9]\n",
        "]\n",
        "\n",
        "reverse_first_column(mat)\n",
        "\n",
        "for row in mat:\n",
        "    print(row)"
      ],
      "metadata": {
        "colab": {
          "base_uri": "https://localhost:8080/"
        },
        "id": "amvOezC6PwSB",
        "outputId": "06ff9154-a1d3-44d3-d3db-b64edbc8fa3e"
      },
      "execution_count": null,
      "outputs": [
        {
          "output_type": "stream",
          "name": "stdout",
          "text": [
            "[7, 2, 3]\n",
            "[4, 5, 6]\n",
            "[1, 8, 9]\n"
          ]
        }
      ]
    },
    {
      "cell_type": "code",
      "metadata": {
        "colab": {
          "base_uri": "https://localhost:8080/"
        },
        "id": "574e430e",
        "outputId": "4b71dfa5-30be-4b44-9bd9-49b361125d5a"
      },
      "source": [
        "# Function to transpose a matrix\n",
        "def transpose_matrix(matrix):\n",
        "    return [[matrix[j][i] for j in range(len(matrix))] for i in range(len(matrix[0]))]\n",
        "\n",
        "mat = [\n",
        "    [1, 2, 3],\n",
        "    [4, 5, 6],\n",
        "    [7, 8, 9]\n",
        "]\n",
        "\n",
        "transposed_mat = transpose_matrix(mat)\n",
        "\n",
        "print(\"Original Matrix:\")\n",
        "for row in mat:\n",
        "    print(row)\n",
        "\n",
        "print(\"\\nTransposed Matrix:\")\n",
        "for row in transposed_mat:\n",
        "    print(row)"
      ],
      "execution_count": null,
      "outputs": [
        {
          "output_type": "stream",
          "name": "stdout",
          "text": [
            "Original Matrix:\n",
            "[1, 2, 3]\n",
            "[4, 5, 6]\n",
            "[7, 8, 9]\n",
            "\n",
            "Transposed Matrix:\n",
            "[1, 4, 7]\n",
            "[2, 5, 8]\n",
            "[3, 6, 9]\n"
          ]
        }
      ]
    },
    {
      "cell_type": "code",
      "source": [
        "# TRANSPOSE MATRIX\n",
        "matrix = [\n",
        "    [1, 2, 3],\n",
        "    [4, 5, 6],\n",
        "    [7, 8, 9]\n",
        "]\n",
        "\n",
        "rows = len(matrix)\n",
        "cols = len(matrix[0])\n",
        "\n",
        "transposed = []\n",
        "\n",
        "for i in range(cols):\n",
        "    new_row = []\n",
        "    for j in range(rows):\n",
        "        new_row.append(matrix[j][i])\n",
        "    transposed.append(new_row)\n",
        "\n",
        "print(transposed)"
      ],
      "metadata": {
        "colab": {
          "base_uri": "https://localhost:8080/"
        },
        "id": "Sho3HLf-QrMc",
        "outputId": "616045f6-0329-43e6-e862-f8c00b6654aa"
      },
      "execution_count": null,
      "outputs": [
        {
          "output_type": "stream",
          "name": "stdout",
          "text": [
            "[[1, 4, 7], [2, 5, 8], [3, 6, 9]]\n"
          ]
        }
      ]
    },
    {
      "cell_type": "markdown",
      "source": [
        "x=[[1,2,3],[4,5,6],[7,8,9]]\n",
        "out=list(map(list,zip(*x)))\n",
        "print(out)"
      ],
      "metadata": {
        "id": "jbICGg0uRwsm"
      }
    },
    {
      "cell_type": "code",
      "source": [
        "N = int(input(\"Enter N: \"))\n",
        "for i in range(1, N+1, 2):\n",
        "    print(i, end=\", \")3"
      ],
      "metadata": {
        "id": "UKX7gOn8rWsK",
        "colab": {
          "base_uri": "https://localhost:8080/"
        },
        "outputId": "7b846cac-053f-43f5-9178-c96ac7038320"
      },
      "execution_count": null,
      "outputs": [
        {
          "output_type": "stream",
          "name": "stdout",
          "text": [
            "Enter N: 100\n",
            "1, 3, 5, 7, 9, 11, 13, 15, 17, 19, 21, 23, 25, 27, 29, 31, 33, 35, 37, 39, 41, 43, 45, 47, 49, 51, 53, 55, 57, 59, 61, 63, 65, 67, 69, 71, 73, 75, 77, 79, 81, 83, 85, 87, 89, 91, 93, 95, 97, 99, "
          ]
        }
      ]
    },
    {
      "cell_type": "code",
      "source": [
        "n=100\n",
        "arr=[]\n",
        "for i in range(1, n+1):\n",
        "    arr.append(i*i - i + 1)\n",
        "print(\"series:\",arr)\n",
        "print(\"sum\", sum(arr))"
      ],
      "metadata": {
        "colab": {
          "base_uri": "https://localhost:8080/"
        },
        "id": "FX6Tc9cYsq6c",
        "outputId": "a943a20d-c0df-4d3b-9548-875e99551a20"
      },
      "execution_count": null,
      "outputs": [
        {
          "output_type": "stream",
          "name": "stdout",
          "text": [
            "series: [1, 3, 7, 13, 21, 31, 43, 57, 73, 91, 111, 133, 157, 183, 211, 241, 273, 307, 343, 381, 421, 463, 507, 553, 601, 651, 703, 757, 813, 871, 931, 993, 1057, 1123, 1191, 1261, 1333, 1407, 1483, 1561, 1641, 1723, 1807, 1893, 1981, 2071, 2163, 2257, 2353, 2451, 2551, 2653, 2757, 2863, 2971, 3081, 3193, 3307, 3423, 3541, 3661, 3783, 3907, 4033, 4161, 4291, 4423, 4557, 4693, 4831, 4971, 5113, 5257, 5403, 5551, 5701, 5853, 6007, 6163, 6321, 6481, 6643, 6807, 6973, 7141, 7311, 7483, 7657, 7833, 8011, 8191, 8373, 8557, 8743, 8931, 9121, 9313, 9507, 9703, 9901]\n",
            "sum 333400\n"
          ]
        }
      ]
    },
    {
      "cell_type": "code",
      "metadata": {
        "colab": {
          "base_uri": "https://localhost:8080/"
        },
        "id": "181e7cf8",
        "outputId": "e186b18b-59d8-46ae-974d-37c2bd0ab170"
      },
      "source": [
        "differences = [arr[i+1] - arr[i] for i in range(len(arr)-1)]\n",
        "print(\"Differences:\", differences)"
      ],
      "execution_count": null,
      "outputs": [
        {
          "output_type": "stream",
          "name": "stdout",
          "text": [
            "Differences: [2, 4, 6, 8, 10, 12, 14, 16, 18, 20, 22, 24, 26, 28, 30, 32, 34, 36, 38, 40, 42, 44, 46, 48, 50, 52, 54, 56, 58, 60, 62, 64, 66, 68, 70, 72, 74, 76, 78, 80, 82, 84, 86, 88, 90, 92, 94, 96, 98, 100, 102, 104, 106, 108, 110, 112, 114, 116, 118, 120, 122, 124, 126, 128, 130, 132, 134, 136, 138, 140, 142, 144, 146, 148, 150, 152, 154, 156, 158, 160, 162, 164, 166, 168, 170, 172, 174, 176, 178, 180, 182, 184, 186, 188, 190, 192, 194, 196, 198]\n"
          ]
        }
      ]
    }
  ]
}